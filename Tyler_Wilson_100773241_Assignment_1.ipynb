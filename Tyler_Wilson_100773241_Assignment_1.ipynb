{
  "nbformat": 4,
  "nbformat_minor": 0,
  "metadata": {
    "colab": {
      "provenance": [],
      "authorship_tag": "ABX9TyOpjmv/Zodn0Pv3Jt6PJX0z",
      "include_colab_link": true
    },
    "kernelspec": {
      "name": "python3",
      "display_name": "Python 3"
    },
    "language_info": {
      "name": "python"
    }
  },
  "cells": [
    {
      "cell_type": "markdown",
      "metadata": {
        "id": "view-in-github",
        "colab_type": "text"
      },
      "source": [
        "<a href=\"https://colab.research.google.com/github/eeteedubya/AIDI---bank-app-python-files/blob/Pizza-Place/Tyler_Wilson_100773241_Assignment_1.ipynb\" target=\"_parent\"><img src=\"https://colab.research.google.com/assets/colab-badge.svg\" alt=\"Open In Colab\"/></a>"
      ]
    },
    {
      "cell_type": "markdown",
      "source": [
        "#### Assignment 1\n",
        "#### Author: Tyler Wilson\n",
        "#### Student: 100773241\n",
        "#### Class: AIDI 1100 - 02"
      ],
      "metadata": {
        "id": "4B_N9ccvvvrk"
      }
    },
    {
      "cell_type": "code",
      "source": [
        "class Pizza:\n",
        "\n",
        "  prices_dict = {\"small\" : 6.49, # dictionary of Key = size, Value = price\n",
        "                 \"medium\" : 8.49, \n",
        "                 \"large\" : 10.49, \n",
        "                 \"x-large\" : 13.49} \n",
        "\n",
        "  sizes_list = [\"small\", # list of available sizes of pizza for validation\n",
        "                \"medium\", \n",
        "                \"large\", \n",
        "                \"x-large\" ]\n",
        "# constructor\n",
        "  def __init__(self, size=\"medium\", toppings = [\"cheese\"] ):\n",
        "    # private instance variables\n",
        "    self._price = 0                   #  total price of the pizza\n",
        "    self._size = \"\"                   #  size of pizza\n",
        "    self._toppings = toppings         #  list of toppings as strings\n",
        "    \n",
        "    self.size = size                  # setting an initial or default size\n",
        "    self.set_price()                  # calling set_price to calculate initial price\n",
        "  \n",
        "  # get list of toppings\n",
        "  def get_toppings(self):\n",
        "    return self._toppings\n",
        "\n",
        "  # set list of toppings\n",
        "  def set_toppings(self, value):\n",
        "    self._toppings = value\n",
        "\n",
        "  # to remove a topping (although we don't use it)\n",
        "  def del_toppings(self, str_topping):\n",
        "    self._toppings.remove(str_topping)\n",
        "\n",
        "  # returns the size of the pizza\n",
        "  def get_size(self):\n",
        "    return self._size\n",
        "\n",
        "  # changes the size of the pizza. Raises ValueError if the size\n",
        "  # doesn't exist in sizes_list\n",
        "  def set_size(self, value):\n",
        "    if self.sizes_list.count(value) > 0:\n",
        "      self._size = value\n",
        "    else:\n",
        "      raise ValueError(f\"ERROR: {value} is not a valid size for a pizza\")\n",
        "\n",
        "  # calls the set_price method so price is most current and then returns the price\n",
        "  def get_price(self):\n",
        "    self.set_price()\n",
        "    return self._price\n",
        "\n",
        "  # calculates and returns the total price of pizza and toppings\n",
        "  def set_price(self):\n",
        "    pizza_price = self.prices_dict[self.get_size()]\n",
        "    topps = self.get_toppings()\n",
        "    toppings_price = len(topps) * .5\n",
        "    self._price = pizza_price + toppings_price\n",
        "\n",
        "  # adds new list of toppings to the _toppings list\n",
        "  def add(self, toppings):\n",
        "    self._toppings.extend(toppings)\n",
        "\n",
        "  # toppings property\n",
        "  toppings = property(fget=get_toppings, fset=set_toppings, \n",
        "                      fdel=del_toppings, doc=\"Toppings Property\")\n",
        "\n",
        "  # size property\n",
        "  size = property(fget=get_size, fset=set_size, \n",
        "                  fdel=None, doc=\"The Size Property\")\n",
        "\n",
        "  # price property\n",
        "  price = property(fget=get_price, fset=set_price, \n",
        "                   fdel=None, doc=None)\n",
        "  \n",
        "  # string override\n",
        "  def __str__(self):\n",
        "    return f\"{self.size} with {self.toppings} for ${self.price}\\n\" "
      ],
      "metadata": {
        "id": "atJoTQK5vHcj"
      },
      "execution_count": null,
      "outputs": []
    },
    {
      "cell_type": "code",
      "source": [
        "print(f'Creating a default pizza')\n",
        "p = Pizza()\n",
        "print(p)\n",
        "\n",
        "toppings = 'cheese olive'.split()\n",
        "print(f'\\nAdding topping: {toppings}')\n",
        "p.add(toppings=toppings)\n",
        "print(p)\n",
        "\n",
        "print(f'\\nCreating a new pizza')\n",
        "p = Pizza('large', 'cheese pepper'.split())\n",
        "print(p)\n",
        "\n",
        "toppings = ['pineapple', 'mushroom']\n",
        "print(f'\\nAdding topping: {toppings}')\n",
        "p.add(toppings)\n",
        "print(p)\n",
        "\n",
        "size = 'x-large'\n",
        "p.size = size\n",
        "print(f'\\nChanging order size to {size}')\n",
        "print(p)\n",
        "\n",
        "size = 'gigantic'\n",
        "print(f'\\nChanging order size to {size}')\n",
        "try:\n",
        "  p.size = size\n",
        "except ValueError as err:\n",
        "  print(err)"
      ],
      "metadata": {
        "colab": {
          "base_uri": "https://localhost:8080/"
        },
        "id": "LAI7WaVkvIRA",
        "outputId": "11c45bce-ce2b-4d82-d443-5ee8f8ec13cc"
      },
      "execution_count": null,
      "outputs": [
        {
          "output_type": "stream",
          "name": "stdout",
          "text": [
            "Creating a default pizza\n",
            "medium with ['cheese'] for $8.99\n",
            "\n",
            "\n",
            "Adding topping: ['cheese', 'olive']\n",
            "medium with ['cheese', 'cheese', 'olive'] for $9.99\n",
            "\n",
            "\n",
            "Creating a new pizza\n",
            "large with ['cheese', 'pepper'] for $11.49\n",
            "\n",
            "\n",
            "Adding topping: ['pineapple', 'mushroom']\n",
            "large with ['cheese', 'pepper', 'pineapple', 'mushroom'] for $12.49\n",
            "\n",
            "\n",
            "Changing order size to x-large\n",
            "x-large with ['cheese', 'pepper', 'pineapple', 'mushroom'] for $15.49\n",
            "\n",
            "\n",
            "Changing order size to gigantic\n",
            "ERROR: gigantic is not a valid size for a pizza\n"
          ]
        }
      ]
    }
  ]
}